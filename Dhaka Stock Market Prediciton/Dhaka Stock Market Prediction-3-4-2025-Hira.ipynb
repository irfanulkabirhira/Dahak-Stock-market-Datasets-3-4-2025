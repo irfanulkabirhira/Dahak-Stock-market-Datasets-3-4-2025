{
 "cells": [
  {
   "cell_type": "code",
   "execution_count": 1,
   "id": "54b1d4ab-ce5c-44fa-bd54-b6c17f6d8b0a",
   "metadata": {},
   "outputs": [],
   "source": [
    "import pandas as pd"
   ]
  },
  {
   "cell_type": "markdown",
   "id": "a124336d-bc06-4cea-af0f-108b5dce7026",
   "metadata": {},
   "source": [
    "### URL of the Website"
   ]
  },
  {
   "cell_type": "code",
   "execution_count": 2,
   "id": "8a65ab5f-6ac8-4ce4-92e4-acd16609f6a2",
   "metadata": {},
   "outputs": [],
   "source": [
    "url = \"https://www.amarstock.com/latest-share-price\""
   ]
  },
  {
   "cell_type": "markdown",
   "id": "e21c4877-3276-49ba-b256-82d042d8073c",
   "metadata": {},
   "source": [
    "### Read Tables from the website "
   ]
  },
  {
   "cell_type": "code",
   "execution_count": 3,
   "id": "c57f393a-dbbc-415b-9e50-1dd891e9fe1d",
   "metadata": {},
   "outputs": [],
   "source": [
    "tables = pd.read_html(url)"
   ]
  },
  {
   "cell_type": "markdown",
   "id": "e0b431a4-c4a7-4264-9917-3bab6552e04d",
   "metadata": {},
   "source": [
    "### Display Available Table"
   ]
  },
  {
   "cell_type": "code",
   "execution_count": 4,
   "id": "5a320721-8aed-43a9-94c7-3815294381a5",
   "metadata": {},
   "outputs": [
    {
     "name": "stdout",
     "output_type": "stream",
     "text": [
      "Number of tables found: 1\n"
     ]
    }
   ],
   "source": [
    "print(f\"Number of tables found: {len(tables)}\")"
   ]
  },
  {
   "cell_type": "markdown",
   "id": "9cd4da6f-4d2c-4c5f-8d62-e2d5cee38a6f",
   "metadata": {},
   "source": [
    "### Select the appropriate table"
   ]
  },
  {
   "cell_type": "code",
   "execution_count": 6,
   "id": "b68a3af7-2795-4e29-a663-1f9aa3d3e1b6",
   "metadata": {},
   "outputs": [],
   "source": [
    "# Change the index if needed\n",
    "df = tables[0]"
   ]
  },
  {
   "cell_type": "code",
   "execution_count": 7,
   "id": "fc84799d-9087-4dea-ba29-55404b0f03fd",
   "metadata": {},
   "outputs": [
    {
     "data": {
      "text/html": [
       "<div>\n",
       "<style scoped>\n",
       "    .dataframe tbody tr th:only-of-type {\n",
       "        vertical-align: middle;\n",
       "    }\n",
       "\n",
       "    .dataframe tbody tr th {\n",
       "        vertical-align: top;\n",
       "    }\n",
       "\n",
       "    .dataframe thead th {\n",
       "        text-align: right;\n",
       "    }\n",
       "</style>\n",
       "<table border=\"1\" class=\"dataframe\">\n",
       "  <thead>\n",
       "    <tr style=\"text-align: right;\">\n",
       "      <th></th>\n",
       "      <th>Trading code</th>\n",
       "      <th>LTP</th>\n",
       "      <th>Change %</th>\n",
       "      <th>High</th>\n",
       "      <th>Low</th>\n",
       "      <th>Close</th>\n",
       "      <th>YCP</th>\n",
       "      <th>Change</th>\n",
       "      <th>Trade</th>\n",
       "      <th>Value</th>\n",
       "      <th>Volume</th>\n",
       "    </tr>\n",
       "  </thead>\n",
       "  <tbody>\n",
       "    <tr>\n",
       "      <th>0</th>\n",
       "      <td>1JANATAMF</td>\n",
       "      <td>3.2</td>\n",
       "      <td>3.23</td>\n",
       "      <td>3.2</td>\n",
       "      <td>3.1</td>\n",
       "      <td>3.2</td>\n",
       "      <td>3.1</td>\n",
       "      <td>0.1</td>\n",
       "      <td>22</td>\n",
       "      <td>0.17</td>\n",
       "      <td>55236</td>\n",
       "    </tr>\n",
       "    <tr>\n",
       "      <th>1</th>\n",
       "      <td>1STPRIMFMF</td>\n",
       "      <td>20.3</td>\n",
       "      <td>-0.49</td>\n",
       "      <td>20.7</td>\n",
       "      <td>20.3</td>\n",
       "      <td>20.3</td>\n",
       "      <td>20.4</td>\n",
       "      <td>-0.1</td>\n",
       "      <td>226</td>\n",
       "      <td>3.61</td>\n",
       "      <td>176162</td>\n",
       "    </tr>\n",
       "    <tr>\n",
       "      <th>2</th>\n",
       "      <td>AAMRANET</td>\n",
       "      <td>23.9</td>\n",
       "      <td>-0.42</td>\n",
       "      <td>24.4</td>\n",
       "      <td>23.9</td>\n",
       "      <td>23.9</td>\n",
       "      <td>24.0</td>\n",
       "      <td>-0.1</td>\n",
       "      <td>237</td>\n",
       "      <td>3.72</td>\n",
       "      <td>154690</td>\n",
       "    </tr>\n",
       "    <tr>\n",
       "      <th>3</th>\n",
       "      <td>AAMRATECH</td>\n",
       "      <td>15.3</td>\n",
       "      <td>-1.29</td>\n",
       "      <td>15.9</td>\n",
       "      <td>15.2</td>\n",
       "      <td>15.3</td>\n",
       "      <td>15.5</td>\n",
       "      <td>-0.2</td>\n",
       "      <td>79</td>\n",
       "      <td>0.80</td>\n",
       "      <td>52184</td>\n",
       "    </tr>\n",
       "    <tr>\n",
       "      <th>4</th>\n",
       "      <td>ABB1STMF</td>\n",
       "      <td>3.2</td>\n",
       "      <td>0.00</td>\n",
       "      <td>3.2</td>\n",
       "      <td>3.2</td>\n",
       "      <td>3.2</td>\n",
       "      <td>3.2</td>\n",
       "      <td>0.0</td>\n",
       "      <td>4</td>\n",
       "      <td>0.05</td>\n",
       "      <td>14350</td>\n",
       "    </tr>\n",
       "  </tbody>\n",
       "</table>\n",
       "</div>"
      ],
      "text/plain": [
       "  Trading code   LTP  Change %  High   Low  Close   YCP  Change  Trade  Value  \\\n",
       "0    1JANATAMF   3.2      3.23   3.2   3.1    3.2   3.1     0.1     22   0.17   \n",
       "1   1STPRIMFMF  20.3     -0.49  20.7  20.3   20.3  20.4    -0.1    226   3.61   \n",
       "2     AAMRANET  23.9     -0.42  24.4  23.9   23.9  24.0    -0.1    237   3.72   \n",
       "3    AAMRATECH  15.3     -1.29  15.9  15.2   15.3  15.5    -0.2     79   0.80   \n",
       "4     ABB1STMF   3.2      0.00   3.2   3.2    3.2   3.2     0.0      4   0.05   \n",
       "\n",
       "   Volume  \n",
       "0   55236  \n",
       "1  176162  \n",
       "2  154690  \n",
       "3   52184  \n",
       "4   14350  "
      ]
     },
     "execution_count": 7,
     "metadata": {},
     "output_type": "execute_result"
    }
   ],
   "source": [
    "df.head()"
   ]
  },
  {
   "cell_type": "markdown",
   "id": "fbed552d-05b3-4fb2-94e1-4f67f04664f6",
   "metadata": {},
   "source": [
    "### Save to CSV for further analysis"
   ]
  },
  {
   "cell_type": "code",
   "execution_count": 9,
   "id": "d3c24855-722f-4fd9-be95-8e451fac3c33",
   "metadata": {},
   "outputs": [],
   "source": [
    "df.to_csv(\"Dhaka_stock_market-3-4-2025.csv\", index=False)"
   ]
  },
  {
   "cell_type": "code",
   "execution_count": 10,
   "id": "0f470dbe-952c-45ba-baae-5898b765599f",
   "metadata": {},
   "outputs": [
    {
     "data": {
      "text/html": [
       "<div>\n",
       "<style scoped>\n",
       "    .dataframe tbody tr th:only-of-type {\n",
       "        vertical-align: middle;\n",
       "    }\n",
       "\n",
       "    .dataframe tbody tr th {\n",
       "        vertical-align: top;\n",
       "    }\n",
       "\n",
       "    .dataframe thead th {\n",
       "        text-align: right;\n",
       "    }\n",
       "</style>\n",
       "<table border=\"1\" class=\"dataframe\">\n",
       "  <thead>\n",
       "    <tr style=\"text-align: right;\">\n",
       "      <th></th>\n",
       "      <th>Trading code</th>\n",
       "      <th>LTP</th>\n",
       "      <th>Change %</th>\n",
       "      <th>High</th>\n",
       "      <th>Low</th>\n",
       "      <th>Close</th>\n",
       "      <th>YCP</th>\n",
       "      <th>Change</th>\n",
       "      <th>Trade</th>\n",
       "      <th>Value</th>\n",
       "      <th>Volume</th>\n",
       "    </tr>\n",
       "  </thead>\n",
       "  <tbody>\n",
       "    <tr>\n",
       "      <th>0</th>\n",
       "      <td>1JANATAMF</td>\n",
       "      <td>3.2</td>\n",
       "      <td>3.23</td>\n",
       "      <td>3.2</td>\n",
       "      <td>3.1</td>\n",
       "      <td>3.2</td>\n",
       "      <td>3.1</td>\n",
       "      <td>0.1</td>\n",
       "      <td>22</td>\n",
       "      <td>0.17</td>\n",
       "      <td>55236</td>\n",
       "    </tr>\n",
       "    <tr>\n",
       "      <th>1</th>\n",
       "      <td>1STPRIMFMF</td>\n",
       "      <td>20.3</td>\n",
       "      <td>-0.49</td>\n",
       "      <td>20.7</td>\n",
       "      <td>20.3</td>\n",
       "      <td>20.3</td>\n",
       "      <td>20.4</td>\n",
       "      <td>-0.1</td>\n",
       "      <td>226</td>\n",
       "      <td>3.61</td>\n",
       "      <td>176162</td>\n",
       "    </tr>\n",
       "    <tr>\n",
       "      <th>2</th>\n",
       "      <td>AAMRANET</td>\n",
       "      <td>23.9</td>\n",
       "      <td>-0.42</td>\n",
       "      <td>24.4</td>\n",
       "      <td>23.9</td>\n",
       "      <td>23.9</td>\n",
       "      <td>24.0</td>\n",
       "      <td>-0.1</td>\n",
       "      <td>237</td>\n",
       "      <td>3.72</td>\n",
       "      <td>154690</td>\n",
       "    </tr>\n",
       "    <tr>\n",
       "      <th>3</th>\n",
       "      <td>AAMRATECH</td>\n",
       "      <td>15.3</td>\n",
       "      <td>-1.29</td>\n",
       "      <td>15.9</td>\n",
       "      <td>15.2</td>\n",
       "      <td>15.3</td>\n",
       "      <td>15.5</td>\n",
       "      <td>-0.2</td>\n",
       "      <td>79</td>\n",
       "      <td>0.80</td>\n",
       "      <td>52184</td>\n",
       "    </tr>\n",
       "    <tr>\n",
       "      <th>4</th>\n",
       "      <td>ABB1STMF</td>\n",
       "      <td>3.2</td>\n",
       "      <td>0.00</td>\n",
       "      <td>3.2</td>\n",
       "      <td>3.2</td>\n",
       "      <td>3.2</td>\n",
       "      <td>3.2</td>\n",
       "      <td>0.0</td>\n",
       "      <td>4</td>\n",
       "      <td>0.05</td>\n",
       "      <td>14350</td>\n",
       "    </tr>\n",
       "  </tbody>\n",
       "</table>\n",
       "</div>"
      ],
      "text/plain": [
       "  Trading code   LTP  Change %  High   Low  Close   YCP  Change  Trade  Value  \\\n",
       "0    1JANATAMF   3.2      3.23   3.2   3.1    3.2   3.1     0.1     22   0.17   \n",
       "1   1STPRIMFMF  20.3     -0.49  20.7  20.3   20.3  20.4    -0.1    226   3.61   \n",
       "2     AAMRANET  23.9     -0.42  24.4  23.9   23.9  24.0    -0.1    237   3.72   \n",
       "3    AAMRATECH  15.3     -1.29  15.9  15.2   15.3  15.5    -0.2     79   0.80   \n",
       "4     ABB1STMF   3.2      0.00   3.2   3.2    3.2   3.2     0.0      4   0.05   \n",
       "\n",
       "   Volume  \n",
       "0   55236  \n",
       "1  176162  \n",
       "2  154690  \n",
       "3   52184  \n",
       "4   14350  "
      ]
     },
     "execution_count": 10,
     "metadata": {},
     "output_type": "execute_result"
    }
   ],
   "source": [
    "df.head()"
   ]
  },
  {
   "cell_type": "code",
   "execution_count": null,
   "id": "c12bc851-f1e2-41ce-94d0-33b3680a2a0c",
   "metadata": {},
   "outputs": [],
   "source": []
  }
 ],
 "metadata": {
  "kernelspec": {
   "display_name": "Python 3 (ipykernel)",
   "language": "python",
   "name": "python3"
  },
  "language_info": {
   "codemirror_mode": {
    "name": "ipython",
    "version": 3
   },
   "file_extension": ".py",
   "mimetype": "text/x-python",
   "name": "python",
   "nbconvert_exporter": "python",
   "pygments_lexer": "ipython3",
   "version": "3.12.3"
  }
 },
 "nbformat": 4,
 "nbformat_minor": 5
}
